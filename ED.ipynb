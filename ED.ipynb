{
 "cells": [
  {
   "cell_type": "code",
   "execution_count": 9,
   "metadata": {},
   "outputs": [],
   "source": [
    "with open('ise_processed.txt', 'r') as f:\n",
    "    a = f.read()\n",
    "b = a.split('\\n')"
   ]
  },
  {
   "cell_type": "code",
   "execution_count": 23,
   "metadata": {},
   "outputs": [],
   "source": [
    "from operator import methodcaller\n",
    "c = list(map(methodcaller(\"split\", \"---\"), b))"
   ]
  },
  {
   "cell_type": "code",
   "execution_count": 2,
   "metadata": {},
   "outputs": [],
   "source": [
    "import pandas as pd\n",
    "# df = pd.DataFrame(c, columns=['num', 'emotion', 'sen'])"
   ]
  },
  {
   "cell_type": "code",
   "execution_count": 87,
   "metadata": {},
   "outputs": [],
   "source": [
    "df.iloc[:,0] = range(0,7665)"
   ]
  },
  {
   "cell_type": "code",
   "execution_count": 94,
   "metadata": {},
   "outputs": [],
   "source": [
    "import numpy as np\n",
    "np.savetxt('sen.txt', df['sen'], fmt='%s')"
   ]
  },
  {
   "cell_type": "code",
   "execution_count": 97,
   "metadata": {},
   "outputs": [
    {
     "data": {
      "text/plain": [
       "77"
      ]
     },
     "execution_count": 97,
     "metadata": {},
     "output_type": "execute_result"
    }
   ],
   "source": [
    "sum(df['sen'] == '[ No response.]')"
   ]
  },
  {
   "cell_type": "code",
   "execution_count": 102,
   "metadata": {},
   "outputs": [],
   "source": [
    "with open('sen.en.fa.txt', 'r') as fa:\n",
    "    txt = fa.read()\n",
    "df['fa'] = txt.split('\\n')[0:-1]"
   ]
  },
  {
   "cell_type": "code",
   "execution_count": 104,
   "metadata": {},
   "outputs": [],
   "source": [
    "df = df.loc[df[\"sen\"] != '[ No response.]']"
   ]
  },
  {
   "cell_type": "code",
   "execution_count": 107,
   "metadata": {},
   "outputs": [],
   "source": [
    "np.savetxt('persian.txt', df.values, fmt='%s')"
   ]
  },
  {
   "cell_type": "code",
   "execution_count": 115,
   "metadata": {},
   "outputs": [],
   "source": [
    "df.to_excel('persian.xlsx')\n",
    "df.to_pickle('persian.pkl')"
   ]
  },
  {
   "cell_type": "code",
   "execution_count": 112,
   "metadata": {},
   "outputs": [],
   "source": [
    "from googletrans import Translator\n",
    "tr = Translator()\n",
    "ans = tr.translate(c[0][2], dest='fa')"
   ]
  },
  {
   "cell_type": "code",
   "execution_count": 1,
   "metadata": {},
   "outputs": [],
   "source": [
    "import pandas as pd\n",
    "df = pd.read_pickle('persian.pkl')"
   ]
  },
  {
   "cell_type": "code",
   "execution_count": 2,
   "metadata": {},
   "outputs": [],
   "source": [
    "from hazm import *\n",
    "stops = stopwords_list() + ['[', ']', '\"', \"'\", '«', '»', '{', '}', '.', '،', '\\u200c']\n",
    "normalizer = Normalizer()\n",
    "t = list(map(normalizer.normalize, df['fa']))\n",
    "t = list(map(word_tokenize, t))\n",
    "t = [[i for i in j if i not in stops] for j in t]\n",
    "t = list(map(' '.join, t))"
   ]
  },
  {
   "cell_type": "code",
   "execution_count": 5,
   "metadata": {},
   "outputs": [],
   "source": [
    "from sklearn.feature_extraction.text import CountVectorizer\n",
    "from sklearn import svm\n",
    "from sklearn.metrics import accuracy_score\n",
    "from sklearn.metrics import classification_report\n",
    "\n",
    "vectorizer = CountVectorizer()\n",
    "X = vectorizer.fit_transform(t).toarray()\n",
    "\n",
    "x_train, x_test, y_train, y_test = train_test_split(X, df['emotion'], test_size=0.2, random_state=0)\n",
    "\n",
    "\n",
    "svm_model = svm.SVC(C=1.0, kernel='linear', degree=3, gamma='auto') # Linear Kernel\n",
    "svm_model.fit(x_train, y_train)\n",
    "print(svm_model.n_support_)\n",
    "\n",
    "y_pred = svm_model.predict(x_test)\n",
    "print(f'accuracy for svm: {accuracy_score(y_pred, y_test)*100} %')\n",
    "print(classification_report(y_test, y_pred))"
   ]
  },
  {
   "cell_type": "code",
   "execution_count": 4,
   "metadata": {},
   "outputs": [
    {
     "name": "stdout",
     "output_type": "stream",
     "text": [
      "[837 795 707 791 721 691 804]\n",
      "accuracy for svm: 55.20421607378129 %\n",
      "              precision    recall  f1-score   support\n",
      "\n",
      "       anger       0.41      0.49      0.44       212\n",
      "     disgust       0.51      0.55      0.53       220\n",
      "        fear       0.68      0.62      0.65       227\n",
      "       guilt       0.50      0.46      0.48       224\n",
      "         joy       0.64      0.73      0.69       211\n",
      "     sadness       0.67      0.54      0.60       208\n",
      "       shame       0.49      0.49      0.49       216\n",
      "\n",
      "    accuracy                           0.55      1518\n",
      "   macro avg       0.56      0.55      0.55      1518\n",
      "weighted avg       0.56      0.55      0.55      1518\n",
      "\n"
     ]
    }
   ],
   "source": [
    "from sklearn import svm\n",
    "from sklearn.metrics import accuracy_score\n",
    "from sklearn.metrics import classification_report\n",
    "from sklearn.feature_extraction.text import TfidfVectorizer\n",
    "import pandas as pd\n",
    "from sklearn.model_selection import train_test_split\n",
    "\n",
    "tfidfvectorizer = TfidfVectorizer()\n",
    "\n",
    "tfidf_wm = tfidfvectorizer.fit_transform(t)\n",
    "tfidf_tokens = tfidfvectorizer.get_feature_names()\n",
    "X = pd.DataFrame(data = tfidf_wm.toarray(),columns = tfidf_tokens)\n",
    "\n",
    "x_train, x_test, y_train, y_test = train_test_split(X, df['emotion'], test_size=0.2, random_state=0)\n",
    "\n",
    "svm_model = svm.SVC(C=1.0, kernel='linear', degree=3, gamma='auto') # Linear Kernel\n",
    "svm_model.fit(x_train, y_train)\n",
    "print(svm_model.n_support_)\n",
    "\n",
    "y_pred = svm_model.predict(x_test)\n",
    "print(f'accuracy for svm: {accuracy_score(y_pred, y_test)*100} %')\n",
    "print(classification_report(y_test, y_pred))"
   ]
  },
  {
   "cell_type": "code",
   "execution_count": 11,
   "metadata": {},
   "outputs": [
    {
     "name": "stdout",
     "output_type": "stream",
     "text": [
      "accuracy for naviebayse: 55.072463768115945 %\n",
      "              precision    recall  f1-score   support\n",
      "\n",
      "       anger       0.43      0.45      0.44       212\n",
      "     disgust       0.62      0.48      0.54       220\n",
      "        fear       0.60      0.63      0.62       227\n",
      "       guilt       0.51      0.53      0.52       224\n",
      "         joy       0.59      0.76      0.67       211\n",
      "     sadness       0.58      0.53      0.56       208\n",
      "       shame       0.53      0.47      0.50       216\n",
      "\n",
      "    accuracy                           0.55      1518\n",
      "   macro avg       0.55      0.55      0.55      1518\n",
      "weighted avg       0.55      0.55      0.55      1518\n",
      "\n"
     ]
    }
   ],
   "source": [
    "from sklearn.feature_extraction.text import TfidfVectorizer\n",
    "from sklearn.metrics import accuracy_score\n",
    "from sklearn.metrics import classification_report\n",
    "from sklearn.naive_bayes import MultinomialNB\n",
    "\n",
    "tfidfvectorizer = TfidfVectorizer()\n",
    "\n",
    "tfidf_wm = tfidfvectorizer.fit_transform(t)\n",
    "tfidf_tokens = tfidfvectorizer.get_feature_names()\n",
    "X = pd.DataFrame(data = tfidf_wm.toarray(),columns = tfidf_tokens)\n",
    "\n",
    "x_train, x_test, y_train, y_test = train_test_split(X, df['emotion'], test_size=0.2, random_state=0)\n",
    "\n",
    "gnb = MultinomialNB()\n",
    "naviebayse_model = gnb.fit(x_train, y_train)\n",
    "y_pred = naviebayse_model.predict(x_test)\n",
    "print(f'accuracy for naviebayse: {accuracy_score(y_pred, y_test)*100} %')\n",
    "print(classification_report(y_test, y_pred))"
   ]
  },
  {
   "cell_type": "code",
   "execution_count": 35,
   "metadata": {},
   "outputs": [],
   "source": [
    "t = classification_report(y_test, y_pred).split()[4:-15]"
   ]
  },
  {
   "cell_type": "code",
   "execution_count": 36,
   "metadata": {},
   "outputs": [],
   "source": [
    "e = [t[i] for i in range(len(t)) if i % 5 == 0]\n",
    "p = [float(t[i]) for i in range(len(t)) if i % 5 == 1]\n",
    "r = [float(t[i]) for i in range(len(t)) if i % 5 == 2]\n",
    "f1 = [float(t[i]) for i in range(len(t)) if i % 5 == 3]"
   ]
  },
  {
   "cell_type": "code",
   "execution_count": 37,
   "metadata": {},
   "outputs": [],
   "source": [
    "p = [p[-1], p[3], p[1], p[2], p[-2], p[-3], p[0]]\n",
    "e = [e[-1], e[3], e[1], e[2], e[-2], e[-3], e[0]]\n",
    "r = [r[-1], r[3], r[1], r[2], r[-2], r[-3], r[0]]\n",
    "f1 = [f1[-1], f1[3], f1[1], f1[2], f1[-2], f1[-3], f1[0]]"
   ]
  },
  {
   "cell_type": "code",
   "execution_count": 38,
   "metadata": {},
   "outputs": [
    {
     "data": {
      "image/png": "[encoded data removed]",
      "text/plain": [
       "<Figure size 640x480 with 1 Axes>"
      ]
     },
     "metadata": {},
     "output_type": "display_data"
    }
   ],
   "source": [
    "import matplotlib.pyplot as plt\n",
    "\n",
    "plt.plot(e, p, '.-r')\n",
    "plt.plot(e, r, '.-b')\n",
    "# plt.plot(e, f1, '.-g')\n",
    "plt.legend(['precision', 'recall', 'f1'])\n",
    "plt.show()"
   ]
  }
 ],
 "metadata": {
  "interpreter": {
   "hash": "17c27106676a1df646250ec231f52cbcb7408fcf69932dc08839f81d9b2366fd"
  },
  "kernelspec": {
   "display_name": "Python 3",
   "language": "python",
   "name": "python3"
  },
  "language_info": {
   "codemirror_mode": {
    "name": "ipython",
    "version": 3
   },
   "file_extension": ".py",
   "mimetype": "text/x-python",
   "name": "python",
   "nbconvert_exporter": "python",
   "pygments_lexer": "ipython3",
   "version": "3.7.6"
  }
 },
 "nbformat": 4,
 "nbformat_minor": 5
}
